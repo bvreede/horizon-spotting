{
 "cells": [
  {
   "cell_type": "markdown",
   "metadata": {},
   "source": [
    "# How far away is the horizon?"
   ]
  },
  {
   "cell_type": "markdown",
   "metadata": {},
   "source": [
    "Basic information gathered from wikipedia.\n",
    "\n",
    "## The earth's radius\n",
    "[Wikipedia](https://en.wikipedia.org/wiki/Earth_radius) writes: \"Its value ranges from 6,378 km (3,963 mi) at the equator to 6,357 km (3,950 mi) at a pole.\"\n",
    "\n",
    "## Average human height\n",
    "According to [Wikipedia](https://en.wikipedia.org/wiki/Human_height#Average_human_height) this is 165 cm.\n"
   ]
  },
  {
   "cell_type": "code",
   "execution_count": 9,
   "metadata": {},
   "outputs": [],
   "source": [
    "import math"
   ]
  },
  {
   "cell_type": "code",
   "execution_count": 1,
   "metadata": {},
   "outputs": [
    {
     "name": "stdout",
     "output_type": "stream",
     "text": [
      "6367500.0\n"
     ]
    }
   ],
   "source": [
    "earth_radius = (6378000 + 6357000)/2\n",
    "human_height = 1.65\n",
    "\n",
    "print(earth_radius)"
   ]
  },
  {
   "cell_type": "markdown",
   "metadata": {},
   "source": [
    "Now calculate how far this human can see.\n",
    "\n",
    "We know that a^2 + b^2 = c^2"
   ]
  },
  {
   "cell_type": "code",
   "execution_count": 2,
   "metadata": {},
   "outputs": [
    {
     "name": "stdout",
     "output_type": "stream",
     "text": [
      "4583.966920317216\n"
     ]
    }
   ],
   "source": [
    "c = earth_radius + human_height\n",
    "a = earth_radius\n",
    "b = (c**2-a**2)**0.5\n",
    "\n",
    "print(b)"
   ]
  },
  {
   "cell_type": "markdown",
   "metadata": {},
   "source": [
    "The average human can see only 4.5 kilometer"
   ]
  },
  {
   "cell_type": "code",
   "execution_count": null,
   "metadata": {},
   "outputs": [],
   "source": []
  }
 ],
 "metadata": {
  "kernelspec": {
   "display_name": "Python 3",
   "language": "python",
   "name": "python3"
  },
  "language_info": {
   "codemirror_mode": {
    "name": "ipython",
    "version": 3
   },
   "file_extension": ".py",
   "mimetype": "text/x-python",
   "name": "python",
   "nbconvert_exporter": "python",
   "pygments_lexer": "ipython3",
   "version": "3.7.6"
  }
 },
 "nbformat": 4,
 "nbformat_minor": 2
}
