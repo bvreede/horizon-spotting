{
 "cells": [
  {
   "cell_type": "markdown",
   "metadata": {},
   "source": [
    "# How far away is the horizon?"
   ]
  },
  {
   "cell_type": "markdown",
   "metadata": {},
   "source": [
    "Basic information gathered from wikipedia.\n",
    "\n",
    "## The earth's radius\n",
    "[Wikipedia](https://en.wikipedia.org/wiki/Earth_radius) writes: \"Its value ranges from 6,378 km (3,963 mi) at the equator to 6,357 km (3,950 mi) at a pole.\"\n",
    "\n",
    "## Average human height\n",
    "According to [Wikipedia](https://en.wikipedia.org/wiki/Human_height#Average_human_height) this is 165 cm.\n"
   ]
  },
  {
   "cell_type": "code",
   "execution_count": 9,
   "metadata": {},
   "outputs": [],
   "source": [
    "import math"
   ]
  },
  {
   "cell_type": "code",
   "execution_count": 1,
   "metadata": {},
   "outputs": [
    {
     "name": "stdout",
     "output_type": "stream",
     "text": [
      "Collecting pint\n",
      "  Downloading Pint-0.10.1-py2.py3-none-any.whl (192 kB)\n",
      "\u001b[K     |████████████████████████████████| 192 kB 6.5 MB/s eta 0:00:01\n",
      "\u001b[?25hRequirement already satisfied: setuptools in /home/johannes/.local/share/workon/sustainability/lib/python3.7/site-packages (from pint) (45.2.0)\n",
      "Installing collected packages: pint\n",
      "Successfully installed pint-0.10.1\n"
     ]
    }
   ],
   "source": [
    "!pip install pint"
   ]
  },
  {
   "cell_type": "code",
   "execution_count": 2,
   "metadata": {},
   "outputs": [],
   "source": [
    "from pint import UnitRegistry\n",
    "unit = UnitRegistry()"
   ]
  },
  {
   "cell_type": "code",
   "execution_count": 3,
   "metadata": {},
   "outputs": [
    {
     "name": "stdout",
     "output_type": "stream",
     "text": [
      "6367.5 kilometer\n"
     ]
    }
   ],
   "source": [
    "earth_radius = (6378+6357)/2 * unit.km\n",
    "human_height = 1.65 * unit.m\n",
    "\n",
    "print(earth_radius)"
   ]
  },
  {
   "cell_type": "markdown",
   "metadata": {},
   "source": [
    "Now calculate how far this human can see.\n",
    "\n",
    "We know that \n",
    "$$a^2 + b^2 = c^2$$"
   ]
  },
  {
   "cell_type": "code",
   "execution_count": 4,
   "metadata": {},
   "outputs": [
    {
     "name": "stdout",
     "output_type": "stream",
     "text": [
      "4.583966920329386 kilometer\n"
     ]
    }
   ],
   "source": [
    "c = earth_radius + human_height\n",
    "a = earth_radius\n",
    "b = (c**2-a**2)**0.5\n",
    "\n",
    "print(b)"
   ]
  },
  {
   "cell_type": "markdown",
   "metadata": {},
   "source": [
    "The average human can see only 4.5 kilometers far!"
   ]
  },
  {
   "cell_type": "code",
   "execution_count": null,
   "metadata": {},
   "outputs": [],
   "source": []
  }
 ],
 "metadata": {
  "kernelspec": {
   "display_name": "Python 3",
   "language": "python",
   "name": "python3"
  },
  "language_info": {
   "codemirror_mode": {
    "name": "ipython",
    "version": 3
   },
   "file_extension": ".py",
   "mimetype": "text/x-python",
   "name": "python",
   "nbconvert_exporter": "python",
   "pygments_lexer": "ipython3",
   "version": "3.8.1"
  }
 },
 "nbformat": 4,
 "nbformat_minor": 4
}
